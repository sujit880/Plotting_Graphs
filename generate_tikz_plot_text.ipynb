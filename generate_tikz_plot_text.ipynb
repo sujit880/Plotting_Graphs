{
 "cells": [
  {
   "cell_type": "code",
   "execution_count": 6,
   "metadata": {},
   "outputs": [
    {
     "name": "stdout",
     "output_type": "stream",
     "text": [
      "['Tables/s15_M_lenet5_mnist_nc_6_synthetic_L_CE_lr_0_01_B_16_C_15_E_5_50/elastic.table', 'Tables/s15_M_lenet5_mnist_nc_6_synthetic_L_CE_lr_0_01_B_16_C_15_E_5_50/fedavg.table', 'Tables/s15_M_lenet5_mnist_nc_6_synthetic_L_CE_lr_0_01_B_16_C_15_E_5_50/feddyn.table', 'Tables/s15_M_lenet5_mnist_nc_6_synthetic_L_CE_lr_0_01_B_16_C_15_E_5_50/fedlada.table', 'Tables/s15_M_lenet5_mnist_nc_6_synthetic_L_CE_lr_0_01_B_16_C_15_E_5_50/fedprox.table', 'Tables/s15_M_lenet5_mnist_nc_6_synthetic_L_CE_lr_0_01_B_16_C_15_E_5_50/scaffold.table', 'Tables/s15_M_lenet5_mnist_nc_6_synthetic_L_CE_lr_0_01_B_16_C_15_E_5_50/fedavgm.table']\n",
      "elastic\n"
     ]
    }
   ],
   "source": [
    "import glob\n",
    "# Specify the directory and pattern\n",
    "directory = 'Tables/'\n",
    "experiment_name = 's15_M_lenet5_mnist_nc_6_synthetic_L_CE_lr_0_01_B_16_C_15_E_5_50'\n",
    "pattern = '*.table'  # Example pattern to match all text files\n",
    "\n",
    "# Get the list of files\n",
    "file_list = glob.glob(directory + experiment_name + '/' + pattern)\n",
    "print(file_list)\n",
    "s_file = file_list[0].split('/')\n",
    "method = s_file[-1].split(\".\")[0]\n",
    "print(method)"
   ]
  },
  {
   "cell_type": "code",
   "execution_count": 7,
   "metadata": {},
   "outputs": [],
   "source": [
    "color_names = [\n",
    "    \"Apricot\", \"Aquamarine\", \"Bittersweet\", \"Black\", \"Blue\", \"BlueGreen\", \"BlueViolet\",\n",
    "    \"BrickRed\", \"Brown\", \"BurntOrange\", \"CadetBlue\", \"CarnationPink\", \"Cerulean\",\n",
    "    \"CornflowerBlue\", \"Cyan\", \"Dandelion\", \"DarkOrchid\", \"Emerald\", \"ForestGreen\",\n",
    "    \"Fuchsia\", \"Goldenrod\", \"Gray\", \"Green\", \"GreenYellow\", \"JungleGreen\", \"Lavender\",\n",
    "    \"LimeGreen\", \"Magenta\", \"Mahogany\", \"Maroon\", \"Melon\", \"MidnightBlue\", \"Mulberry\",\n",
    "    \"NavyBlue\", \"OliveGreen\", \"Orange\", \"OrangeRed\", \"Orchid\", \"Peach\", \"Periwinkle\",\n",
    "    \"PineGreen\", \"Plum\", \"ProcessBlue\", \"Purple\", \"RawSienna\", \"Red\", \"RedOrange\",\n",
    "    \"RedViolet\", \"Rhodamine\", \"RoyalBlue\", \"RoyalPurple\", \"RubineRed\", \"Salmon\", \"SeaGreen\",\n",
    "    \"Sepia\", \"SkyBlue\", \"SpringGreen\", \"Tan\", \"TealBlue\", \"Thistle\", \"Turquoise\", \"Violet\",\n",
    "    \"VioletRed\", \"White\", \"WildStrawberry\", \"Yellow\", \"YellowGreen\", \"YellowOrange\"\n",
    "]"
   ]
  },
  {
   "cell_type": "code",
   "execution_count": 8,
   "metadata": {},
   "outputs": [
    {
     "name": "stdout",
     "output_type": "stream",
     "text": [
      "{'elastic': 'green', 'fedavg': 'teal', 'feddyn': 'red', 'fedlada': 'orange', 'fedprox': 'blue', 'scaffold': 'lime', 'fedavgm': 'olive'}\n",
      "{}\n"
     ]
    }
   ],
   "source": [
    "import random\n",
    "random.seed(1)\n",
    "colors = [\n",
    "    \"black\", \"red\", \"green\", \"blue\", \"cyan\", \"magenta\", \"orange\", \"violet\", \"pink\", \"purple\", \"teal\", \"olive\", \"lime\"\n",
    "]\n",
    "marker_styles = ['*', '+', 'x', 'o', 'square', 'triangle', 'diamond', 'pentagon', 'oplus', 'otimes']\n",
    "add_mark = False\n",
    "color_dict = {}\n",
    "mark_dict = {}\n",
    "for file in file_list:    \n",
    "    s_file = file.split('/')\n",
    "    method = s_file[-1].split(\".\")[0]\n",
    "    # Randomly pick a color without replacement\n",
    "    selected_color = random.choice(colors)\n",
    "    \n",
    "    # Remove the selected color from the list\n",
    "    colors.remove(selected_color)\n",
    "    color_dict[method] = selected_color\n",
    "    # print(f\"{method}, {selected_color}\")\n",
    "    if add_mark:\n",
    "        selected_mark = random.choice(marker_styles)\n",
    "        marker_styles.remove(selected_mark)\n",
    "        mark_dict[method] = selected_mark\n",
    "print(color_dict)\n",
    "print(mark_dict)"
   ]
  },
  {
   "cell_type": "code",
   "execution_count": 9,
   "metadata": {},
   "outputs": [
    {
     "name": "stdout",
     "output_type": "stream",
     "text": [
      "\\addplot[thick, color=olive] table {Tables/s15_M_lenet5_mnist_nc_6_synthetic_L_CE_lr_0_01_B_16_C_15_E_5_50/fedavgm.table};\n",
      "\\addplot[thick, color=green] table {Tables/s15_M_lenet5_mnist_nc_6_synthetic_L_CE_lr_0_01_B_16_C_15_E_5_50/elastic.table};\n",
      "\\addplot[thick, color=teal] table {Tables/s15_M_lenet5_mnist_nc_6_synthetic_L_CE_lr_0_01_B_16_C_15_E_5_50/fedavg.table};\n",
      "\\addplot[thick, color=red] table {Tables/s15_M_lenet5_mnist_nc_6_synthetic_L_CE_lr_0_01_B_16_C_15_E_5_50/feddyn.table};\n",
      "\\addplot[thick, color=orange] table {Tables/s15_M_lenet5_mnist_nc_6_synthetic_L_CE_lr_0_01_B_16_C_15_E_5_50/fedlada.table};\n",
      "\\addplot[thick, color=blue] table {Tables/s15_M_lenet5_mnist_nc_6_synthetic_L_CE_lr_0_01_B_16_C_15_E_5_50/fedprox.table};\n",
      "\\addplot[thick, color=lime] table {Tables/s15_M_lenet5_mnist_nc_6_synthetic_L_CE_lr_0_01_B_16_C_15_E_5_50/scaffold.table};\n",
      "\\addplot[thick, color=olive] table {Tables/s15_M_lenet5_mnist_nc_6_synthetic_L_CE_lr_0_01_B_16_C_15_E_5_50/fedavgm.table};\n",
      "\n",
      "\\addlegendentry {elastic}\n",
      "\\addlegendentry {fedavg}\n",
      "\\addlegendentry {feddyn}\n",
      "\\addlegendentry {fedlada}\n",
      "\\addlegendentry {fedprox}\n",
      "\\addlegendentry {scaffold}\n",
      "\\addlegendentry {fedavgm}\n",
      "\n"
     ]
    }
   ],
   "source": [
    "method_table = f'Tables/{experiment_name}/{method}.table'\n",
    "plot = f\"\\\\addplot[thick, color={color_dict[method]}] table {'{'}{method_table}{'}'};\"\n",
    "print(plot)\n",
    "plot_text =''\n",
    "legend_text = \"\"\n",
    "for file in file_list:\n",
    "    s_file = file.split('/')\n",
    "    method = s_file[-1].split(\".\")[0]\n",
    "    plot = f\"\\\\addplot[thick, color={color_dict[method]}] table {{{file}}};\\n\"\n",
    "    if add_mark:\n",
    "        plot = f\"\\\\addplot[thick, color={color_dict[method]}, mark={mark_dict[method]}] table {{{file}}};\\n\"\n",
    "    plot_text += plot\n",
    "    legend_text +=f\"\\\\addlegendentry {{{method}}}\\n\"\n",
    "    # print(f'{plot}')\n",
    "print(plot_text)\n",
    "print(legend_text)"
   ]
  }
 ],
 "metadata": {
  "kernelspec": {
   "display_name": "fedlearn",
   "language": "python",
   "name": "python3"
  },
  "language_info": {
   "codemirror_mode": {
    "name": "ipython",
    "version": 3
   },
   "file_extension": ".py",
   "mimetype": "text/x-python",
   "name": "python",
   "nbconvert_exporter": "python",
   "pygments_lexer": "ipython3",
   "version": "3.9.19"
  }
 },
 "nbformat": 4,
 "nbformat_minor": 2
}
