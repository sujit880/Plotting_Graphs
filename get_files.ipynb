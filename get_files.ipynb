{
 "cells": [
  {
   "cell_type": "code",
   "execution_count": 43,
   "metadata": {},
   "outputs": [],
   "source": [
    "# Example usage\n",
    "host = '10.12.10.15'\n",
    "port = 22\n",
    "username = 'sujit_2021cs35'\n",
    "password = 'sujit123'\n",
    "working_dir = '/home/sujit/Github/Plotting_Graphs'\n",
    "remote_dir = \"/home/sujit_2021cs35/Github/FedLearn/result\"\n",
    "local_dir = 'experiments/d_mnit_c15_e10_b16_t_mix_nc_4_r_250_model_none_lr_01'\n",
    "files = ['elastic_M_None_mnist_nc_4_mix_CE_10_lr_0_01_B_16_C_15_E_10_255.json']"
   ]
  },
  {
   "cell_type": "code",
   "execution_count": 44,
   "metadata": {},
   "outputs": [
    {
     "name": "stdout",
     "output_type": "stream",
     "text": [
      "STDOUT:\n",
      "\n",
      "STDERR:\n",
      "\n",
      "experiments/d_mnit_c15_e10_b16_t_mix_nc_4_r_250_model_none_lr_01/files_to_download.txt has been deleted successfully.\n"
     ]
    }
   ],
   "source": [
    "import paramiko\n",
    "import os\n",
    "\n",
    "# Create local directory if not exist\n",
    "if not os.path.exists(local_dir):\n",
    "    os.mkdir(local_dir)\n",
    "# Change to local working directory\n",
    "os.chdir('/home/sujit/Github/Plotting_Graphs')\n",
    "ssh = paramiko.SSHClient()\n",
    "\n",
    "ssh.set_missing_host_key_policy(paramiko.AutoAddPolicy())\n",
    "ssh.connect(host, username=username, password=password)\n",
    "# Execute remote command to list files into a text file\n",
    "command = f\"cd {remote_dir} && ls *_nc_4_mix_*_B_16*_E_10_*.json > files_to_download.txt\"\n",
    "stdin, stdout, stderr = ssh.exec_command(command)\n",
    "stdout.channel.recv_exit_status()  # Wait for exec to finish\n",
    "# Read output from stdout and stderr\n",
    "stdout_output = stdout.read().decode()\n",
    "stderr_output = stderr.read().decode()\n",
    "\n",
    "# Print output\n",
    "print(\"STDOUT:\")\n",
    "print(stdout_output)\n",
    "\n",
    "print(\"STDERR:\")\n",
    "print(stderr_output)\n",
    "\n",
    "# Setup SFTP client to transfer files\n",
    "sftp = ssh.open_sftp()\n",
    "\n",
    "# Download the file containing the list of files to local directory\n",
    "remote_file_list = os.path.join(remote_dir, \"files_to_download.txt\")\n",
    "local_file_list = os.path.join(local_dir, \"files_to_download.txt\")\n",
    "sftp.get(remote_file_list, local_file_list)\n",
    "\n",
    "# # Change to local directory\n",
    "# os.chdir(local_dir)\n",
    "\n",
    "# Read local list file and download each file listed\n",
    "with open(local_dir+\"/files_to_download.txt\", 'r') as file_list:\n",
    "    for file_name in file_list:\n",
    "        file_name = file_name.strip()\n",
    "        if file_name:\n",
    "            remote_file_path = os.path.join(remote_dir, file_name)\n",
    "            local_file_path = os.path.join(local_dir, file_name)\n",
    "            sftp.get(remote_file_path, local_file_path)\n",
    "            # print(remote_file_path, local_file_path)\n",
    "\n",
    "# Clean up: Remove the file list from the server\n",
    "sftp.remove(remote_file_list)\n",
    "# Check if the file exists before attempting to delete\n",
    "if os.path.exists(local_file_list):\n",
    "    os.remove(local_file_list)\n",
    "    print(f\"{local_file_list} has been deleted successfully.\")\n",
    "else:\n",
    "    print(f\"The file {local_file_list} does not exist.\")\n",
    "# Close SFTP and SSH connections\n",
    "sftp.close()\n",
    "ssh.close()"
   ]
  }
 ],
 "metadata": {
  "kernelspec": {
   "display_name": "fedlearn",
   "language": "python",
   "name": "python3"
  },
  "language_info": {
   "codemirror_mode": {
    "name": "ipython",
    "version": 3
   },
   "file_extension": ".py",
   "mimetype": "text/x-python",
   "name": "python",
   "nbconvert_exporter": "python",
   "pygments_lexer": "ipython3",
   "version": "3.9.19"
  }
 },
 "nbformat": 4,
 "nbformat_minor": 2
}
