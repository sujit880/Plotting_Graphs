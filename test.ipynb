{
 "cells": [
  {
   "cell_type": "code",
   "execution_count": 22,
   "metadata": {},
   "outputs": [
    {
     "name": "stdout",
     "output_type": "stream",
     "text": [
      "tensor(3.7417, dtype=torch.float64)\n"
     ]
    }
   ],
   "source": [
    "import torch\n",
    "\n",
    "# Create a tensor with negative values\n",
    "tensor = torch.tensor([-1, 2, -3], dtype=float)\n",
    "\n",
    "# Calculate L1 norm along dimension 0 (vector norm)\n",
    "l1_norm = torch.norm(tensor, )\n",
    "\n",
    "print(l1_norm)  # Output: tensor(-6.)\n"
   ]
  }
 ],
 "metadata": {
  "kernelspec": {
   "display_name": "fedlearn",
   "language": "python",
   "name": "python3"
  },
  "language_info": {
   "codemirror_mode": {
    "name": "ipython",
    "version": 3
   },
   "file_extension": ".py",
   "mimetype": "text/x-python",
   "name": "python",
   "nbconvert_exporter": "python",
   "pygments_lexer": "ipython3",
   "version": "3.9.19"
  }
 },
 "nbformat": 4,
 "nbformat_minor": 2
}
