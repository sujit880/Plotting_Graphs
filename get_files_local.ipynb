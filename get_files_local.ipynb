{
 "cells": [
  {
   "cell_type": "code",
   "execution_count": 68,
   "metadata": {},
   "outputs": [
    {
     "name": "stderr",
     "output_type": "stream",
     "text": [
      "cp: cannot stat '/home/sujit/Github/Plotting_Graphs/Experiment_Results/*/*/*_M_lenet5_mnist_nc_6_synthetic_L_*_lr_0_01_B_32_C_15_E_5_*.json': No such file or directory\n"
     ]
    },
    {
     "ename": "CalledProcessError",
     "evalue": "Command 'scp /home/sujit/Github/Plotting_Graphs/Experiment_Results/*/*/*_M_lenet5_mnist_nc_6_synthetic_L_*_lr_0_01_B_32_C_15_E_5_*.json ./experiments_mnist/M_lenet5_mnist_nc_6_synthetic_L_CE_lr_0_01_B_32_C_15_E_5_200' returned non-zero exit status 1.",
     "output_type": "error",
     "traceback": [
      "\u001b[0;31m---------------------------------------------------------------------------\u001b[0m",
      "\u001b[0;31mCalledProcessError\u001b[0m                        Traceback (most recent call last)",
      "Cell \u001b[0;32mIn[68], line 18\u001b[0m\n\u001b[1;32m     16\u001b[0m \u001b[38;5;66;03m# Use subprocess to run the scp command\u001b[39;00m\n\u001b[1;32m     17\u001b[0m scp_command \u001b[38;5;241m=\u001b[39m \u001b[38;5;124mf\u001b[39m\u001b[38;5;124m'\u001b[39m\u001b[38;5;124mscp \u001b[39m\u001b[38;5;132;01m{\u001b[39;00mdata_dir\u001b[38;5;132;01m}\u001b[39;00m\u001b[38;5;124m/*/*/*_M_\u001b[39m\u001b[38;5;132;01m{\u001b[39;00mmodel\u001b[38;5;132;01m}\u001b[39;00m\u001b[38;5;124m_\u001b[39m\u001b[38;5;132;01m{\u001b[39;00mdataset\u001b[38;5;132;01m}\u001b[39;00m\u001b[38;5;124m_nc_\u001b[39m\u001b[38;5;132;01m{\u001b[39;00mn_class\u001b[38;5;132;01m}\u001b[39;00m\u001b[38;5;124m_synthetic_L_*_lr_\u001b[39m\u001b[38;5;132;01m{\u001b[39;00mlr\u001b[38;5;132;01m}\u001b[39;00m\u001b[38;5;124m_B_\u001b[39m\u001b[38;5;132;01m{\u001b[39;00mbs\u001b[38;5;132;01m}\u001b[39;00m\u001b[38;5;124m_C_15_E_5_*.json \u001b[39m\u001b[38;5;132;01m{\u001b[39;00mlocal_dir\u001b[38;5;132;01m}\u001b[39;00m\u001b[38;5;124m'\u001b[39m\n\u001b[0;32m---> 18\u001b[0m \u001b[43msubprocess\u001b[49m\u001b[38;5;241;43m.\u001b[39;49m\u001b[43mrun\u001b[49m\u001b[43m(\u001b[49m\u001b[43mscp_command\u001b[49m\u001b[43m,\u001b[49m\u001b[43m \u001b[49m\u001b[43mshell\u001b[49m\u001b[38;5;241;43m=\u001b[39;49m\u001b[38;5;28;43;01mTrue\u001b[39;49;00m\u001b[43m,\u001b[49m\u001b[43m \u001b[49m\u001b[43mcheck\u001b[49m\u001b[38;5;241;43m=\u001b[39;49m\u001b[38;5;28;43;01mTrue\u001b[39;49;00m\u001b[43m)\u001b[49m\n",
      "File \u001b[0;32m~/anaconda3/envs/fedlearn/lib/python3.9/subprocess.py:528\u001b[0m, in \u001b[0;36mrun\u001b[0;34m(input, capture_output, timeout, check, *popenargs, **kwargs)\u001b[0m\n\u001b[1;32m    526\u001b[0m     retcode \u001b[38;5;241m=\u001b[39m process\u001b[38;5;241m.\u001b[39mpoll()\n\u001b[1;32m    527\u001b[0m     \u001b[38;5;28;01mif\u001b[39;00m check \u001b[38;5;129;01mand\u001b[39;00m retcode:\n\u001b[0;32m--> 528\u001b[0m         \u001b[38;5;28;01mraise\u001b[39;00m CalledProcessError(retcode, process\u001b[38;5;241m.\u001b[39margs,\n\u001b[1;32m    529\u001b[0m                                  output\u001b[38;5;241m=\u001b[39mstdout, stderr\u001b[38;5;241m=\u001b[39mstderr)\n\u001b[1;32m    530\u001b[0m \u001b[38;5;28;01mreturn\u001b[39;00m CompletedProcess(process\u001b[38;5;241m.\u001b[39margs, retcode, stdout, stderr)\n",
      "\u001b[0;31mCalledProcessError\u001b[0m: Command 'scp /home/sujit/Github/Plotting_Graphs/Experiment_Results/*/*/*_M_lenet5_mnist_nc_6_synthetic_L_*_lr_0_01_B_32_C_15_E_5_*.json ./experiments_mnist/M_lenet5_mnist_nc_6_synthetic_L_CE_lr_0_01_B_32_C_15_E_5_200' returned non-zero exit status 1."
     ]
    }
   ],
   "source": [
    "import os\n",
    "import subprocess\n",
    "dataset =\"mnist\"\n",
    "model = \"lenet5\"\n",
    "n_class = 6\n",
    "lr = \"0_01\"\n",
    "bs = 32\n",
    "working_dir = '/home/sujit/Github/Plotting_Graphs'\n",
    "data_dir = '/home/sujit/Github/Plotting_Graphs/Experiment_Results'\n",
    "local_dir = f'./experiments_{dataset}/M_{model}_{dataset}_nc_{n_class}_synthetic_L_CE_lr_{lr}_B_{bs}_C_15_E_5_200'\n",
    "\n",
    "# Create local directory if not exist\n",
    "if not os.path.exists(local_dir):\n",
    "    os.makedirs(local_dir)\n",
    "os.chdir(working_dir)\n",
    "# Use subprocess to run the scp command\n",
    "scp_command = f'scp {data_dir}/*/*/*_M_{model}_{dataset}_nc_{n_class}_synthetic_L_*_lr_{lr}_B_{bs}_C_15_E_5_*.json {local_dir}'\n",
    "subprocess.run(scp_command, shell=True, check=True)\n"
   ]
  },
  {
   "cell_type": "code",
   "execution_count": null,
   "metadata": {},
   "outputs": [],
   "source": [
    "# scp -r sujit_2021cs35@10.12.10.82:/DATA/sujit/Github/FedLearn/result1 ./"
   ]
  }
 ],
 "metadata": {
  "kernelspec": {
   "display_name": "fedlearn",
   "language": "python",
   "name": "python3"
  },
  "language_info": {
   "codemirror_mode": {
    "name": "ipython",
    "version": 3
   },
   "file_extension": ".py",
   "mimetype": "text/x-python",
   "name": "python",
   "nbconvert_exporter": "python",
   "pygments_lexer": "ipython3",
   "version": "3.9.undefined"
  }
 },
 "nbformat": 4,
 "nbformat_minor": 2
}
