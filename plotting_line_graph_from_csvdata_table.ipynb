{
 "cells": [
  {
   "cell_type": "code",
   "execution_count": 2,
   "metadata": {},
   "outputs": [],
   "source": [
    "import matplotlib.pyplot as plt\n",
    "import pandas as pd"
   ]
  },
  {
   "cell_type": "code",
   "execution_count": 3,
   "metadata": {},
   "outputs": [],
   "source": [
    "def moving_average(arr: list, window_size: int):\n",
    "    averages  = []\n",
    "    i = 0\n",
    "    while i < len(arr) - window_size + 1:\n",
    "    \n",
    "        # Store elements from i to i+window_size\n",
    "        # in list to get the current window\n",
    "        window = arr[i : i + window_size]\n",
    "    \n",
    "        # Calculate the average of current window\n",
    "        window_average = round(sum(window) / window_size, 2)\n",
    "        # print(f'{window_average}/{arr[i]}')\n",
    "        # Store the average of current\n",
    "        # window in moving average list\n",
    "        averages.append(window_average)\n",
    "        \n",
    "        # Shift window to right by one position\n",
    "        i += 1    \n",
    "    print(len(averages))\n",
    "    return averages"
   ]
  },
  {
   "cell_type": "code",
   "execution_count": 4,
   "metadata": {},
   "outputs": [],
   "source": [
    "data_dir = f\"/home/gopal/Desktop/with_loss\""
   ]
  },
  {
   "cell_type": "code",
   "execution_count": 5,
   "metadata": {},
   "outputs": [],
   "source": [
    "baffle_dir = f'{data_dir}/baffle'\n",
    "fedrl_dir = f'{data_dir}/fedrl'\n",
    "fedrlchain_dir = f'{data_dir}/fedrlchain'\n",
    "qchain_dir = f'{data_dir}/qchain'\n"
   ]
  },
  {
   "cell_type": "code",
   "execution_count": 6,
   "metadata": {},
   "outputs": [],
   "source": [
    "fedavg_vs_fedrlchain_3 = [f'{fedrl_dir}/client_3_n_10_lr_(0_001)/15345_FinishedCartPole-v0_17_11_2022-00_04_04_finished.csv',\n",
    " f'{fedrlchain_dir}/client_3_10_(0_001)/17664_FinishedCartPole-v0_16_11_2022-03_17_29_finished.csv']"
   ]
  },
  {
   "cell_type": "code",
   "execution_count": 7,
   "metadata": {},
   "outputs": [],
   "source": [
    "fedavg_vs_fedrlchain_5 = [f'{fedrl_dir}/client_5_n_10_lr_(0_001)/2798_FinishedCartPole-v0_16_11_2022-23_35_47_finished.csv',\n",
    " f'{fedrlchain_dir}/client_5_10_0_001_N_d/19834_FinishedCartPole-v0_22_11_2022-03_22_41_finished copy.csv']"
   ]
  },
  {
   "cell_type": "code",
   "execution_count": 8,
   "metadata": {},
   "outputs": [],
   "source": [
    "baffle_vs_fedrlchain_5_10_001 = [f'{baffle_dir}/client_5_10_(0_001)/CartPole-v0_15_11_2022-19_21_11_finished_lr_0.001_n_10.csv',\n",
    " f'{fedrlchain_dir}/client_5_10_0_001_N_d/19834_FinishedCartPole-v0_22_11_2022-03_22_41_finished copy.csv']"
   ]
  },
  {
   "cell_type": "code",
   "execution_count": 9,
   "metadata": {},
   "outputs": [],
   "source": [
    "baffle_vs_fedrlchain_5_20_001 = [f'{baffle_dir}/client_5_20_(0_001)/CartPole-v0_15_11_2022-15_05_53_finished_lr_0.01_n_20.csv',\n",
    " f'{fedrlchain_dir}/client_5_20_0_001_N_d/9474_FinishedCartPole-v0_22_11_2022-04_06_22_finished.csv']"
   ]
  },
  {
   "cell_type": "code",
   "execution_count": 10,
   "metadata": {},
   "outputs": [],
   "source": [
    "baffle_vs_fedrlchain_5_30_001 = [f'{baffle_dir}/client_5_30_(0_001)/CartPole-v0_15_11_2022-10_41_17_finished_lr_0.001_n_30.csv',\n",
    " f'{fedrlchain_dir}/client_5_30_0_001_N_d/17737_FinishedCartPole-v0_22_11_2022-22_28_21_finished.csv']"
   ]
  },
  {
   "cell_type": "code",
   "execution_count": 11,
   "metadata": {},
   "outputs": [],
   "source": [
    "baffle_vs_fedrlchain_5_10_0001 = [f'{baffle_dir}/client_5_10_(0_0001)/CartPole-v0_15_11_2022-16_33_23_finished_lr_0.0001_n_10.csv',\n",
    " f'{fedrlchain_dir}/client_5_10_0_0001_N_d/6494_FinishedCartPole-v0_23_11_2022-00_04_07_finished.csv']\n",
    "\n",
    "# baffle_vs_fedrlchain_5_10_0001 = [f'{baffle_dir}/client_5_10_(0_0001)/CartPole-v0_15_11_2022-16_33_23_finished_lr_0.0001_n_10.csv',\n",
    "#  f'{fedrlchain_dir}/client_5_10_0_0001_N_d/6430_FinishedCartPole-v0_23_11_2022-00_04_04_finished.csv']"
   ]
  },
  {
   "cell_type": "code",
   "execution_count": 12,
   "metadata": {},
   "outputs": [],
   "source": [
    "baffle_vs_fedrlchain_5_20_0001 = [f'{baffle_dir}/client_5_20_(0_0001)/CartPole-v0_15_11_2022-16_07_28_finished_lr_0.0001_n_20.csv',\n",
    " f'{fedrlchain_dir}/client_5_20_0_0001_N_d/30509_FinishedCartPole-v0_22_11_2022-04_27_44_finished.csv']"
   ]
  },
  {
   "cell_type": "code",
   "execution_count": 13,
   "metadata": {},
   "outputs": [],
   "source": [
    "baffle_vs_fedrlchain_5_30_0001 = [f'{baffle_dir}/client_5_30_(0_0001)/CartPole-v0_15_11_2022-12_18_19_finished_lr_0.0001_n_30.csv',\n",
    " f'{fedrlchain_dir}/client_5_30_0_0001_N_d/875_FinishedCartPole-v0_22_11_2022-23_12_27_finished.csv']"
   ]
  },
  {
   "cell_type": "code",
   "execution_count": 44,
   "metadata": {},
   "outputs": [],
   "source": [
    "baffle_vs_fedrlchain_3_30_0001 = [f'{baffle_dir}/client_3_30_(0_0001)/CartPole-v0_15_11_2022-09_43_26_finished_lr_0.0001_n_30.csv',\n",
    " f'{fedrlchain_dir}/client_3_30_0_0001_N_d/26104_FinishedCartPole-v0_02_12_2022-06_33_47_finished_0.0001.csv']"
   ]
  },
  {
   "cell_type": "code",
   "execution_count": 59,
   "metadata": {},
   "outputs": [],
   "source": [
    "baffle_vs_fedrlchain_3_20_0001 = [f'{baffle_dir}/client_3_20_(0_0001)/CartPole-v0_15_11_2022-02_41_29_finished_lr_0.0001_n_20.csv',\n",
    " f'{fedrlchain_dir}/client_3_20_0_0001_N_d/25061_FinishedCartPole-v0_02_12_2022-07_20_54_finished_0.0001.csv']"
   ]
  },
  {
   "cell_type": "code",
   "execution_count": 71,
   "metadata": {},
   "outputs": [],
   "source": [
    "baffle_vs_fedrlchain_3_10_0001 = [f'{baffle_dir}/client_3_10_(0_0001)/CartPole-v0_15_11_2022-01_48_02_finished_lr_0.0001_n_10.csv',\n",
    " f'{fedrlchain_dir}/client_3_10_0_0001_N_d/10546_FinishedCartPole-v0_02_12_2022-03_21_34_finished.csv']"
   ]
  },
  {
   "cell_type": "code",
   "execution_count": 163,
   "metadata": {},
   "outputs": [],
   "source": [
    "baffle_vs_fedrlchain_3_10_001 = [f'{baffle_dir}/client_3_10_(0_001)/CartPole-v0_14_11_2022-23_58_05_finished_lr_0.001_n_10.csv',\n",
    " f'{fedrlchain_dir}/client_3_10_0_001_N_d/26369_FinishedCartPole-v0_02_12_2022-02_06_37_finished.csv']"
   ]
  },
  {
   "cell_type": "code",
   "execution_count": 178,
   "metadata": {},
   "outputs": [],
   "source": [
    "baffle_vs_fedrlchain_3_20_001 = [f'{baffle_dir}/client_3_20_(0_001)/CartPole-v0_15_11_2022-03_11_44_finished_lr_0.001_n_20.csv',\n",
    " f'{fedrlchain_dir}/client_3_20_0_001_N_d/2087_FinishedCartPole-v0_02_12_2022-23_46_35_finished_0.001.csv']"
   ]
  },
  {
   "cell_type": "code",
   "execution_count": 179,
   "metadata": {},
   "outputs": [],
   "source": [
    "baffle = f'{baffle_dir}/'\n",
    "fedrl = f'{fedrl_dir}/'\n",
    "fedrlchain = f'{fedrlchain_dir}'\n",
    "dqchain = f'{qchain_dir}'\n",
    "datas = []"
   ]
  },
  {
   "cell_type": "code",
   "execution_count": 180,
   "metadata": {},
   "outputs": [
    {
     "name": "stdout",
     "output_type": "stream",
     "text": [
      "230\n"
     ]
    },
    {
     "ename": "FileNotFoundError",
     "evalue": "[Errno 2] No such file or directory: '/home/gopal/Desktop/with_loss/fedrlchain/client_3_20_0_001_N_d/15181_FinishedCartPole-v0_16_11_2022-15_01_20_lr_0.001_n_20.csv'",
     "output_type": "error",
     "traceback": [
      "\u001b[0;31m---------------------------------------------------------------------------\u001b[0m",
      "\u001b[0;31mFileNotFoundError\u001b[0m                         Traceback (most recent call last)",
      "\u001b[0;32m/tmp/ipykernel_4363/2035868392.py\u001b[0m in \u001b[0;36m<module>\u001b[0;34m\u001b[0m\n\u001b[1;32m      3\u001b[0m \u001b[0mMOVING_AVERAGE_SIZE\u001b[0m \u001b[0;34m=\u001b[0m \u001b[0;36m15\u001b[0m\u001b[0;34m\u001b[0m\u001b[0;34m\u001b[0m\u001b[0m\n\u001b[1;32m      4\u001b[0m \u001b[0;32mfor\u001b[0m \u001b[0mdata\u001b[0m \u001b[0;32min\u001b[0m \u001b[0mbaffle_vs_fedrlchain_3_20_001\u001b[0m\u001b[0;34m:\u001b[0m\u001b[0;34m\u001b[0m\u001b[0;34m\u001b[0m\u001b[0m\n\u001b[0;32m----> 5\u001b[0;31m     \u001b[0mdf\u001b[0m \u001b[0;34m=\u001b[0m \u001b[0mpd\u001b[0m\u001b[0;34m.\u001b[0m\u001b[0mread_csv\u001b[0m\u001b[0;34m(\u001b[0m\u001b[0mdata\u001b[0m\u001b[0;34m)\u001b[0m\u001b[0;34m\u001b[0m\u001b[0;34m\u001b[0m\u001b[0m\n\u001b[0m\u001b[1;32m      6\u001b[0m     \u001b[0;31m# x.append(df[\"epoch\"].values)\u001b[0m\u001b[0;34m\u001b[0m\u001b[0;34m\u001b[0m\u001b[0m\n\u001b[1;32m      7\u001b[0m     \u001b[0;31m# y.append(df[\"reward\"].values)\u001b[0m\u001b[0;34m\u001b[0m\u001b[0;34m\u001b[0m\u001b[0m\n",
      "\u001b[0;32m~/anaconda3/lib/python3.9/site-packages/pandas/util/_decorators.py\u001b[0m in \u001b[0;36mwrapper\u001b[0;34m(*args, **kwargs)\u001b[0m\n\u001b[1;32m    309\u001b[0m                     \u001b[0mstacklevel\u001b[0m\u001b[0;34m=\u001b[0m\u001b[0mstacklevel\u001b[0m\u001b[0;34m,\u001b[0m\u001b[0;34m\u001b[0m\u001b[0;34m\u001b[0m\u001b[0m\n\u001b[1;32m    310\u001b[0m                 )\n\u001b[0;32m--> 311\u001b[0;31m             \u001b[0;32mreturn\u001b[0m \u001b[0mfunc\u001b[0m\u001b[0;34m(\u001b[0m\u001b[0;34m*\u001b[0m\u001b[0margs\u001b[0m\u001b[0;34m,\u001b[0m \u001b[0;34m**\u001b[0m\u001b[0mkwargs\u001b[0m\u001b[0;34m)\u001b[0m\u001b[0;34m\u001b[0m\u001b[0;34m\u001b[0m\u001b[0m\n\u001b[0m\u001b[1;32m    312\u001b[0m \u001b[0;34m\u001b[0m\u001b[0m\n\u001b[1;32m    313\u001b[0m         \u001b[0;32mreturn\u001b[0m \u001b[0mwrapper\u001b[0m\u001b[0;34m\u001b[0m\u001b[0;34m\u001b[0m\u001b[0m\n",
      "\u001b[0;32m~/anaconda3/lib/python3.9/site-packages/pandas/io/parsers/readers.py\u001b[0m in \u001b[0;36mread_csv\u001b[0;34m(filepath_or_buffer, sep, delimiter, header, names, index_col, usecols, squeeze, prefix, mangle_dupe_cols, dtype, engine, converters, true_values, false_values, skipinitialspace, skiprows, skipfooter, nrows, na_values, keep_default_na, na_filter, verbose, skip_blank_lines, parse_dates, infer_datetime_format, keep_date_col, date_parser, dayfirst, cache_dates, iterator, chunksize, compression, thousands, decimal, lineterminator, quotechar, quoting, doublequote, escapechar, comment, encoding, encoding_errors, dialect, error_bad_lines, warn_bad_lines, on_bad_lines, delim_whitespace, low_memory, memory_map, float_precision, storage_options)\u001b[0m\n\u001b[1;32m    676\u001b[0m     \u001b[0mkwds\u001b[0m\u001b[0;34m.\u001b[0m\u001b[0mupdate\u001b[0m\u001b[0;34m(\u001b[0m\u001b[0mkwds_defaults\u001b[0m\u001b[0;34m)\u001b[0m\u001b[0;34m\u001b[0m\u001b[0;34m\u001b[0m\u001b[0m\n\u001b[1;32m    677\u001b[0m \u001b[0;34m\u001b[0m\u001b[0m\n\u001b[0;32m--> 678\u001b[0;31m     \u001b[0;32mreturn\u001b[0m \u001b[0m_read\u001b[0m\u001b[0;34m(\u001b[0m\u001b[0mfilepath_or_buffer\u001b[0m\u001b[0;34m,\u001b[0m \u001b[0mkwds\u001b[0m\u001b[0;34m)\u001b[0m\u001b[0;34m\u001b[0m\u001b[0;34m\u001b[0m\u001b[0m\n\u001b[0m\u001b[1;32m    679\u001b[0m \u001b[0;34m\u001b[0m\u001b[0m\n\u001b[1;32m    680\u001b[0m \u001b[0;34m\u001b[0m\u001b[0m\n",
      "\u001b[0;32m~/anaconda3/lib/python3.9/site-packages/pandas/io/parsers/readers.py\u001b[0m in \u001b[0;36m_read\u001b[0;34m(filepath_or_buffer, kwds)\u001b[0m\n\u001b[1;32m    573\u001b[0m \u001b[0;34m\u001b[0m\u001b[0m\n\u001b[1;32m    574\u001b[0m     \u001b[0;31m# Create the parser.\u001b[0m\u001b[0;34m\u001b[0m\u001b[0;34m\u001b[0m\u001b[0m\n\u001b[0;32m--> 575\u001b[0;31m     \u001b[0mparser\u001b[0m \u001b[0;34m=\u001b[0m \u001b[0mTextFileReader\u001b[0m\u001b[0;34m(\u001b[0m\u001b[0mfilepath_or_buffer\u001b[0m\u001b[0;34m,\u001b[0m \u001b[0;34m**\u001b[0m\u001b[0mkwds\u001b[0m\u001b[0;34m)\u001b[0m\u001b[0;34m\u001b[0m\u001b[0;34m\u001b[0m\u001b[0m\n\u001b[0m\u001b[1;32m    576\u001b[0m \u001b[0;34m\u001b[0m\u001b[0m\n\u001b[1;32m    577\u001b[0m     \u001b[0;32mif\u001b[0m \u001b[0mchunksize\u001b[0m \u001b[0;32mor\u001b[0m \u001b[0miterator\u001b[0m\u001b[0;34m:\u001b[0m\u001b[0;34m\u001b[0m\u001b[0;34m\u001b[0m\u001b[0m\n",
      "\u001b[0;32m~/anaconda3/lib/python3.9/site-packages/pandas/io/parsers/readers.py\u001b[0m in \u001b[0;36m__init__\u001b[0;34m(self, f, engine, **kwds)\u001b[0m\n\u001b[1;32m    930\u001b[0m \u001b[0;34m\u001b[0m\u001b[0m\n\u001b[1;32m    931\u001b[0m         \u001b[0mself\u001b[0m\u001b[0;34m.\u001b[0m\u001b[0mhandles\u001b[0m\u001b[0;34m:\u001b[0m \u001b[0mIOHandles\u001b[0m \u001b[0;34m|\u001b[0m \u001b[0;32mNone\u001b[0m \u001b[0;34m=\u001b[0m \u001b[0;32mNone\u001b[0m\u001b[0;34m\u001b[0m\u001b[0;34m\u001b[0m\u001b[0m\n\u001b[0;32m--> 932\u001b[0;31m         \u001b[0mself\u001b[0m\u001b[0;34m.\u001b[0m\u001b[0m_engine\u001b[0m \u001b[0;34m=\u001b[0m \u001b[0mself\u001b[0m\u001b[0;34m.\u001b[0m\u001b[0m_make_engine\u001b[0m\u001b[0;34m(\u001b[0m\u001b[0mf\u001b[0m\u001b[0;34m,\u001b[0m \u001b[0mself\u001b[0m\u001b[0;34m.\u001b[0m\u001b[0mengine\u001b[0m\u001b[0;34m)\u001b[0m\u001b[0;34m\u001b[0m\u001b[0;34m\u001b[0m\u001b[0m\n\u001b[0m\u001b[1;32m    933\u001b[0m \u001b[0;34m\u001b[0m\u001b[0m\n\u001b[1;32m    934\u001b[0m     \u001b[0;32mdef\u001b[0m \u001b[0mclose\u001b[0m\u001b[0;34m(\u001b[0m\u001b[0mself\u001b[0m\u001b[0;34m)\u001b[0m\u001b[0;34m:\u001b[0m\u001b[0;34m\u001b[0m\u001b[0;34m\u001b[0m\u001b[0m\n",
      "\u001b[0;32m~/anaconda3/lib/python3.9/site-packages/pandas/io/parsers/readers.py\u001b[0m in \u001b[0;36m_make_engine\u001b[0;34m(self, f, engine)\u001b[0m\n\u001b[1;32m   1214\u001b[0m             \u001b[0;31m# \"Union[str, PathLike[str], ReadCsvBuffer[bytes], ReadCsvBuffer[str]]\"\u001b[0m\u001b[0;34m\u001b[0m\u001b[0;34m\u001b[0m\u001b[0m\n\u001b[1;32m   1215\u001b[0m             \u001b[0;31m# , \"str\", \"bool\", \"Any\", \"Any\", \"Any\", \"Any\", \"Any\"\u001b[0m\u001b[0;34m\u001b[0m\u001b[0;34m\u001b[0m\u001b[0m\n\u001b[0;32m-> 1216\u001b[0;31m             self.handles = get_handle(  # type: ignore[call-overload]\n\u001b[0m\u001b[1;32m   1217\u001b[0m                 \u001b[0mf\u001b[0m\u001b[0;34m,\u001b[0m\u001b[0;34m\u001b[0m\u001b[0;34m\u001b[0m\u001b[0m\n\u001b[1;32m   1218\u001b[0m                 \u001b[0mmode\u001b[0m\u001b[0;34m,\u001b[0m\u001b[0;34m\u001b[0m\u001b[0;34m\u001b[0m\u001b[0m\n",
      "\u001b[0;32m~/anaconda3/lib/python3.9/site-packages/pandas/io/common.py\u001b[0m in \u001b[0;36mget_handle\u001b[0;34m(path_or_buf, mode, encoding, compression, memory_map, is_text, errors, storage_options)\u001b[0m\n\u001b[1;32m    784\u001b[0m         \u001b[0;32mif\u001b[0m \u001b[0mioargs\u001b[0m\u001b[0;34m.\u001b[0m\u001b[0mencoding\u001b[0m \u001b[0;32mand\u001b[0m \u001b[0;34m\"b\"\u001b[0m \u001b[0;32mnot\u001b[0m \u001b[0;32min\u001b[0m \u001b[0mioargs\u001b[0m\u001b[0;34m.\u001b[0m\u001b[0mmode\u001b[0m\u001b[0;34m:\u001b[0m\u001b[0;34m\u001b[0m\u001b[0;34m\u001b[0m\u001b[0m\n\u001b[1;32m    785\u001b[0m             \u001b[0;31m# Encoding\u001b[0m\u001b[0;34m\u001b[0m\u001b[0;34m\u001b[0m\u001b[0m\n\u001b[0;32m--> 786\u001b[0;31m             handle = open(\n\u001b[0m\u001b[1;32m    787\u001b[0m                 \u001b[0mhandle\u001b[0m\u001b[0;34m,\u001b[0m\u001b[0;34m\u001b[0m\u001b[0;34m\u001b[0m\u001b[0m\n\u001b[1;32m    788\u001b[0m                 \u001b[0mioargs\u001b[0m\u001b[0;34m.\u001b[0m\u001b[0mmode\u001b[0m\u001b[0;34m,\u001b[0m\u001b[0;34m\u001b[0m\u001b[0;34m\u001b[0m\u001b[0m\n",
      "\u001b[0;31mFileNotFoundError\u001b[0m: [Errno 2] No such file or directory: '/home/gopal/Desktop/with_loss/fedrlchain/client_3_20_0_001_N_d/15181_FinishedCartPole-v0_16_11_2022-15_01_20_lr_0.001_n_20.csv'"
     ]
    },
    {
     "data": {
      "image/png": "[encoded data removed]",
      "text/plain": [
       "<Figure size 1100x500 with 1 Axes>"
      ]
     },
     "metadata": {},
     "output_type": "display_data"
    }
   ],
   "source": [
    "plt.figure(figsize=[11,5])\n",
    "plt.grid()\n",
    "MOVING_AVERAGE_SIZE = 15\n",
    "for data in baffle_vs_fedrlchain_3_20_001:\n",
    "    df = pd.read_csv(data)\n",
    "    # x.append(df[\"epoch\"].values)\n",
    "    # y.append(df[\"reward\"].values)\n",
    "    x,y = df[\"epoch\"].values, df[\"loss\"].values\n",
    "    x1,y1 = x[:len(x)-MOVING_AVERAGE_SIZE+1], moving_average(y,MOVING_AVERAGE_SIZE)\n",
    "    # print(x1)\n",
    "    LOG_CSV = ''\n",
    "    for i in range(len(x1)):\n",
    "        LOG_CSV +=f'{str(x1[i])} {str(y1[i])}\\n'\n",
    "    LOG_CSV +='};'\n",
    "    data_name = data.split('/')\n",
    "    sav_instance_path = f'./Tables/{data_name[5]}baffle_vs_fedrlchain_3_20_001_loss'\n",
    "    with open(sav_instance_path +'.table', 'w' ) as f:\n",
    "        f.write(LOG_CSV)\n",
    "    plt.plot(x1,y1,linewidth=1.5)\n",
    "plt.legend([\"BAFFLE\",\"FedRLChaim\"], loc = \"lower right\" )\n",
    "plt.xlabel(\"Epochs\")\n",
    "plt.ylabel(\"Reward\")\n",
    "plt.show()"
   ]
  },
  {
   "cell_type": "code",
   "execution_count": null,
   "metadata": {},
   "outputs": [],
   "source": [
    "plt.show()"
   ]
  },
  {
   "cell_type": "code",
   "execution_count": null,
   "metadata": {},
   "outputs": [],
   "source": [
    "def find_argmax(datas: list):\n",
    "    index,max = 0,0\n",
    "    for i in range(len(datas)):\n",
    "        print(i,len(datas[i]))\n",
    "        if len(datas[i])> max:\n",
    "            max = len(datas[i])            \n",
    "            index = i\n",
    "    return index"
   ]
  },
  {
   "cell_type": "code",
   "execution_count": null,
   "metadata": {},
   "outputs": [],
   "source": [
    "# index = find_argmax(x)\n",
    "# index"
   ]
  },
  {
   "cell_type": "code",
   "execution_count": null,
   "metadata": {},
   "outputs": [
    {
     "name": "stdout",
     "output_type": "stream",
     "text": [
      "fedrlchain\n"
     ]
    }
   ],
   "source": [
    "a= f'/a/client_3_n_10_lr_(0_001)/15345_FinishedCartPole-v0_17_11_2022-00_04_04_finished.csv'\n",
    "b = fedrlchain.split('/')\n",
    "print(b[5])"
   ]
  }
 ],
 "metadata": {
  "kernelspec": {
   "display_name": "Python 3.9.13 ('base')",
   "language": "python",
   "name": "python3"
  },
  "language_info": {
   "codemirror_mode": {
    "name": "ipython",
    "version": 3
   },
   "file_extension": ".py",
   "mimetype": "text/x-python",
   "name": "python",
   "nbconvert_exporter": "python",
   "pygments_lexer": "ipython3",
   "version": "3.9.13"
  },
  "orig_nbformat": 4,
  "vscode": {
   "interpreter": {
    "hash": "2800d65159a92ea92226e4f1b51db0c0f3e2ac677cca15408f744b963defc702"
   }
  }
 },
 "nbformat": 4,
 "nbformat_minor": 2
}
